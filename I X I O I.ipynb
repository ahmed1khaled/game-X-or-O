{
 "cells": [
  {
   "cell_type": "code",
   "execution_count": 1,
   "metadata": {},
   "outputs": [],
   "source": [
    "tic=[\"-\",\"-\",\"-\",\"-\",\"-\",\"-\",\"-\",\"-\",\"-\"]\n",
    "def display_board():\n",
    "       print(f\"|{tic[0]}|{tic[1]}|{tic[2]}|\\n|{tic[3]}|{tic[4]}|{tic[5]}|\\n|{tic[6]}|{tic[7]}|{tic[8]}|\")"
   ]
  },
  {
   "cell_type": "code",
   "execution_count": 2,
   "metadata": {},
   "outputs": [],
   "source": [
    "tic=[\"-\",\"-\",\"-\",\"-\",\"-\",\"-\",\"-\",\"-\",\"-\"] \n",
    "def playing():\n",
    "    i=0\n",
    "    while i in range(0,9):\n",
    "        try:\n",
    "            display_board()\n",
    "            print(\"-----------------\")\n",
    "            if tic[0]==tic[1]==tic[2]!=\"-\":\n",
    "                print(f\"winner : {tic[0]}\")\n",
    "                break\n",
    "            elif tic[3]==tic[4]==tic[5]!=\"-\":\n",
    "                print(f\"winner : {tic[3]}\")\n",
    "                break\n",
    "            elif tic[6]==tic[7]==tic[8]!=\"-\":\n",
    "                print(f\"winner : {tic[6]}\")\n",
    "                break\n",
    "            if tic[0]==tic[3]==tic[6]!=\"-\":\n",
    "                print(f\"winner : {tic[0]}\")\n",
    "                break\n",
    "            elif tic[1]==tic[4]==tic[7]!=\"-\":\n",
    "                print(f\"winner : {tic[1]}\")\n",
    "                break\n",
    "            elif tic[2]==tic[5]==tic[8]!=\"-\":\n",
    "                print(f\"winner : {tic[2]}\")\n",
    "                break\n",
    "            if tic[0]==tic[4]==tic[8]!=\"-\":\n",
    "                print(f\"winner : {tic[0]}\")\n",
    "                break\n",
    "    \n",
    "            elif tic[2]==tic[4]==tic[6]!=\"-\":\n",
    "                print(f\"winner : {tic[2]}\")\n",
    "                break\n",
    "            playing=int(input(\"input position : \"))\n",
    "  \n",
    "            if playing==999:\n",
    "                print('game over')\n",
    "                i=9\n",
    "            elif\"-\" not in tic:\n",
    "                print('game over')\n",
    "                i=9\n",
    "                \n",
    "\n",
    "            elif playing not in range(1,10):\n",
    "                print(\"replay\")\n",
    "                \n",
    "            else:\n",
    "                \n",
    "                if tic[playing-1]!=\"-\":\n",
    "                    print(\"busy position\")\n",
    "                    \n",
    "                elif tic.count(\"X\")==tic.count(\"O\"):\n",
    "                    tic[playing-1]=\"X\"\n",
    "\n",
    "                    i+=1\n",
    "                  \n",
    "               \n",
    "                else:    \n",
    "                    tic[playing-1]=\"O\"\n",
    "                    display_board()\n",
    "\n",
    "                    i+=1\n",
    "                                 \n",
    "        except:\n",
    "                \n",
    "                print(\"enter right position.\")\n",
    "             "
   ]
  },
  {
   "cell_type": "code",
   "execution_count": null,
   "metadata": {},
   "outputs": [
    {
     "name": "stdout",
     "output_type": "stream",
     "text": [
      "|-|-|-|\n",
      "|-|-|-|\n",
      "|-|-|-|\n",
      "input position : 5\n",
      "|-|-|-|\n",
      "|-|X|-|\n",
      "|-|-|-|\n",
      "input position : x\n",
      "enter right position.\n",
      "|-|-|-|\n",
      "|-|X|-|\n",
      "|-|-|-|\n",
      "input position : 7\n",
      "|-|-|-|\n",
      "|-|X|-|\n",
      "|O|-|-|\n",
      "|-|-|-|\n",
      "|-|X|-|\n",
      "|O|-|-|\n"
     ]
    }
   ],
   "source": [
    "playing()"
   ]
  },
  {
   "cell_type": "code",
   "execution_count": null,
   "metadata": {},
   "outputs": [],
   "source": []
  },
  {
   "cell_type": "code",
   "execution_count": null,
   "metadata": {},
   "outputs": [],
   "source": []
  }
 ],
 "metadata": {
  "kernelspec": {
   "display_name": "Python 3",
   "language": "python",
   "name": "python3"
  },
  "language_info": {
   "codemirror_mode": {
    "name": "ipython",
    "version": 3
   },
   "file_extension": ".py",
   "mimetype": "text/x-python",
   "name": "python",
   "nbconvert_exporter": "python",
   "pygments_lexer": "ipython3",
   "version": "3.8.3"
  }
 },
 "nbformat": 4,
 "nbformat_minor": 4
}
